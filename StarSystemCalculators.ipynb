{
  "nbformat": 4,
  "nbformat_minor": 0,
  "metadata": {
    "colab": {
      "provenance": [],
      "collapsed_sections": [
        "LvzMii04h5dY",
        "F20mMUxigGNp",
        "Dlc_mJlbC5JB"
      ],
      "include_colab_link": true
    },
    "kernelspec": {
      "name": "python3",
      "display_name": "Python 3"
    },
    "language_info": {
      "name": "python"
    }
  },
  "cells": [
    {
      "cell_type": "markdown",
      "metadata": {
        "id": "view-in-github",
        "colab_type": "text"
      },
      "source": [
        "<a href=\"https://colab.research.google.com/github/Tuck-Williamson/Star-System-Calculator/blob/main/StarSystemCalculators.ipynb\" target=\"_parent\"><img src=\"https://colab.research.google.com/assets/colab-badge.svg\" alt=\"Open In Colab\"/></a>"
      ]
    },
    {
      "cell_type": "markdown",
      "source": [
        "# Emme's World Building Notebook\n",
        "\n",
        "This is a collection of calculations for creating a realistic star system.\n",
        "\n",
        "Below there is the complete calculations that are corrected for units.\n",
        "\n",
        "Here is the old [density](https://colab.research.google.com/drive/1F8IcjIDiv9Dxmrr_dpVsQoPI-t7JXoTA#scrollTo=taiNe66YcdgK) calculator.\n",
        "\n",
        "And here is the old [Roche Limit](https://colab.research.google.com/drive/1F8IcjIDiv9Dxmrr_dpVsQoPI-t7JXoTA#scrollTo=6led0EN8SJHw) calculator.\n"
      ],
      "metadata": {
        "id": "Ist3OxDcBh1j"
      }
    },
    {
      "cell_type": "code",
      "source": [
        "# @title System Creating Calculations. { run: \"auto\", form-width: \"50%\", display-mode: \"form\" }\n",
        "\n",
        "import sympy.physics.units as units\n",
        "from sympy import solve, symbols, pi, Eq, init_printing, latex, pprint\n",
        "from sympy.physics.units import Quantity, length, mass, convert_to\n",
        "from sympy.physics.units import day, gravitational_constant as G\n",
        "from sympy.physics.units import meter, kilogram, gram, cm, lightyear, kilometer\n",
        "from sympy.physics.units.systems import SI\n",
        "from IPython.display import Math\n",
        "\n",
        "init_printing()\n",
        "p_density = symbols(\"BodyDensity\")\n",
        "\n",
        "earth_mass = Quantity(\"Earth's Mass\")\n",
        "SI.set_quantity_dimension(earth_mass, mass)\n",
        "SI.set_quantity_scale_factor(earth_mass,5.972e24 * kilogram)\n",
        "JM = Quantity(\"Jupiter's Mass\")\n",
        "SI.set_quantity_dimension(JM, mass)\n",
        "SI.set_quantity_scale_factor(JM,1.898e27 * kilogram)\n",
        "SM = Quantity(\"Sun's Mass\")\n",
        "SI.set_quantity_dimension(SM, mass)\n",
        "SI.set_quantity_scale_factor(SM,1.9891e30 * kilogram)\n",
        "lM = Quantity(\"Lunar Mass\")\n",
        "SI.set_quantity_dimension(lM, mass)\n",
        "SI.set_quantity_scale_factor(lM,7.342e22 * kilogram)\n",
        "\n",
        "earth_radius = Quantity(\"Earth's Radius\")\n",
        "SI.set_quantity_dimension(earth_radius, length)\n",
        "SI.set_quantity_scale_factor(earth_radius, 6.378e+6*meter)\n",
        "lR = Quantity(\"Lunar Radius\")\n",
        "SI.set_quantity_dimension(lR, length)\n",
        "SI.set_quantity_scale_factor(lR, 1737.5*kilometer)\n",
        "JR = Quantity(\"Jupiter's Radius\")\n",
        "SI.set_quantity_dimension(JR, length)\n",
        "SI.set_quantity_scale_factor(JR, 69911*kilometer)\n",
        "SR = Quantity(\"Sun's Radius\")\n",
        "SI.set_quantity_dimension(SR, length)\n",
        "SI.set_quantity_scale_factor(SR, 696340*kilometer)\n",
        "\n",
        "compared_to_map = {\n",
        "    'Earth': {length: earth_radius, mass: earth_mass},\n",
        "    'Sun': {length: SR, mass: SM},\n",
        "    'Moon': {length: lR, mass: lM},\n",
        "    'Jupiter': {length: JR, mass: JM},\n",
        "}\n",
        "\n",
        "\n",
        "EM = earth_mass\n",
        "# @markdown The units of the value below for the mass of the orbiting body. (EM = $\\oplus$ = Earth's Mass)\n",
        "body_mass_units = EM # @param ['gram', 'kilogram', 'EM', 'JM', 'SM','lM']{type: 'raw'}\n",
        "#@markdown This is the mass (in the above units) of the body orbiting the central mass.\n",
        "body_mass = 0.8 # @param {type:\"number\"}\n",
        "\n",
        "b_mass = Quantity(\"BodyMass\")\n",
        "SI.set_quantity_dimension(b_mass, mass)\n",
        "SI.set_quantity_scale_factor(b_mass, convert_to(body_mass_units*body_mass,gram))\n",
        "\n",
        "# @markdown ---\n",
        "\n",
        "\n",
        "ER = earth_radius\n",
        "# @markdown The units of the value below for the radius of the body object. (ER = Earth's Radius)\n",
        "body_radius_units = ER # @param ['meter', 'kilometer', 'ER', 'lightyear', 'lR', 'SR', 'JR']{type: 'raw'}\n",
        "#@markdown This is the radius (in the above units) of the body orbiting the central mass.\n",
        "body_radius = 0.9 # @param {type:\"number\"}\n",
        "b_radius = Quantity(\"BodyRadius\")\n",
        "SI.set_quantity_dimension(b_radius, length)\n",
        "SI.set_quantity_scale_factor(b_radius, body_radius_units*body_radius)\n",
        "\n",
        "# @markdown ---\n",
        "\n",
        "# @markdown $\\star$ The units of the value below for the body density is returned in.\n",
        "body_returned_units = gram / cm**3 # @param ['gram / cm**3', 'kilogram / cm**3', 'gram / meter**3']{type: 'raw'}\n",
        "body_density_eq = Eq(p_density, b_mass / ((4.0/3.0)*pi*(b_radius**3)) )\n",
        "# display(pprint(body_density_eq))\n",
        "ans = solve(body_density_eq,p_density)\n",
        "p_density_sln = convert_to(ans[0], body_returned_units).evalf(5)\n",
        "\n",
        "# @markdown ---\n",
        "\n",
        "# @markdown ### Roche Limit\n",
        "\n",
        "# @markdown The units of the value below for the mass of the central object.\n",
        "central_object_mass_units = kilogram # @param ['gram', 'kilogram', 'EM', 'JM', 'SM','lM']{type: 'raw'}\n",
        "\n",
        "#@markdown This is the mass of the central object in the above units.\n",
        "#@markdown Mass of the sun: 1.9891e30 kilograms, or 1 SM.\n",
        "\n",
        "#@markdown $\\to$ You can enter custom values. $\\downarrow$\n",
        "central_object_mass = 2.18801103e+30 # @param [\"2.18801103e+30\", \"1.9891e30\"] {type:\"raw\", allow-input: true}\n",
        "c_o_mass = convert_to(central_object_mass*central_object_mass_units, gram)\n",
        "\n",
        "# @markdown ---\n",
        "\n",
        "au = units.au\n",
        "# @markdown $\\star$ The units of the value below for the Roche Limit is returned in.\n",
        "returned_units = au # @param ['au', 'meter', 'kilometer', 'ER', 'lightyear','lR', 'SR', 'JR']{type: 'raw'}\n",
        "\n",
        "roche_lim = symbols('RocheLimit')\n",
        "roche_constant = 9.0068e-2\n",
        "roche_lim_eq = Eq(roche_lim, ((c_o_mass)/(roche_constant*pi*p_density_sln))**(1.0/3.0))\n",
        "roche_lim_num = convert_to(solve(roche_lim_eq, roche_lim)[0], returned_units)\n",
        "\n",
        "# @markdown ---\n",
        "\n",
        "# list(compared_to_map.keys())\n",
        "# @markdown $\\star$ The body to compare to.\n",
        "compare_body = 'Earth' # @param ['Earth', 'Sun', 'Moon', 'Jupiter']\n",
        "comp_body_mass = compared_to_map[compare_body][mass]\n",
        "comp_body_length = compared_to_map[compare_body][length]\n",
        "c_b_d_eq = body_density_eq.copy()\n",
        "c_density = symbols('CompBodyDensity')\n",
        "comp_body_density = convert_to(\n",
        "    solve(c_b_d_eq.subs(\n",
        "        {b_mass: comp_body_mass, b_radius : comp_body_length, p_density: c_density}), c_density)[0],\n",
        "    body_returned_units).n(5)\n",
        "\n",
        "print(f'''\n",
        "Body Mass: {b_mass.convert_to(kilogram)} ({b_mass.convert_to(comp_body_mass).n(5)})\n",
        "Body Radius: {b_radius.convert_to(meter).n(5)} ({b_radius.convert_to(comp_body_length).n(5)})\n",
        "Body Density: {p_density_sln.n(5)} ({(p_density_sln / comp_body_density).n(5)} {compare_body}'s Density)\n",
        "Roche Limit Orbital Radius: {roche_lim_num.n(5)} ({convert_to(roche_lim_num.n(5), comp_body_length)})\n",
        "\n",
        "Central Object Mass: {convert_to(c_o_mass, kilogram).n(5)} ({convert_to(c_o_mass, comp_body_mass).n(5)})\n",
        "''')\n"
      ],
      "metadata": {
        "colab": {
          "base_uri": "https://localhost:8080/"
        },
        "id": "JxqCCZIPQI_M",
        "outputId": "33b0b860-75ca-43e7-9abd-4d7fb824d313"
      },
      "execution_count": null,
      "outputs": [
        {
          "output_type": "stream",
          "name": "stdout",
          "text": [
            "\n",
            "Body Mass: 4.7776e+24*kilogram (0.8*Earth's Mass)\n",
            "Body Radius: 5.7402e+6*meter (0.9*Earth's Radius)\n",
            "Body Density: 6.0303*gram/centimeter**3 (1.0974 Earth's Density)\n",
            "Roche Limit Orbital Radius: 0.0072622*astronomical_unit (170.338093696727*Earth's Radius)\n",
            "\n",
            "Central Object Mass: 2.188e+30*kilogram (3.6638e+5*Earth's Mass)\n",
            "\n"
          ]
        }
      ]
    },
    {
      "cell_type": "markdown",
      "source": [
        "# Planet Building"
      ],
      "metadata": {
        "id": "LvzMii04h5dY"
      }
    },
    {
      "cell_type": "code",
      "execution_count": null,
      "metadata": {
        "colab": {
          "base_uri": "https://localhost:8080/"
        },
        "id": "taiNe66YcdgK",
        "outputId": "65671fe2-c601-4f04-b877-374bb38c420a"
      },
      "outputs": [
        {
          "output_type": "stream",
          "name": "stdout",
          "text": [
            "\n",
            "\t Diameter: 11480.4(km) (0.9 ER)\n",
            "\t Mass: 4.7776000000000004e+24(kg) (0.8 EM)\n",
            "\t Density : 6.0303164597760555 g/cm^3\n",
            "\n"
          ]
        }
      ],
      "source": [
        "# @title Planet Building { run: \"auto\", vertical-output: true, display-mode: \"form\" }\n",
        "\n",
        "# @markdown $\\gets$ Press the play button once and then any changes in this form will\n",
        "# @markdown automatically update the results.\n",
        "\n",
        "# @markdown [Density calculator this is based on.](https://calculator.academy/density-of-a-sphere-calculator/)\n",
        "\n",
        "# @markdown Formula used:\n",
        "# @markdown $$D=\\frac{m}{(\\frac{4}{3} \\pi r^3)}$$\n",
        "\n",
        "import math\n",
        "# , ipywidgets as ipw\n",
        "\n",
        "\n",
        "earth_mass : float = 5.972 * 10**24\n",
        "earth_radius : float = 6.378e+3# 8919.4/0.7\n",
        "# earth_mass = 5.972 * 10**24 * units.mass.kilogram\n",
        "# earth_radius = 6.378e+6*units.length.meter\n",
        "\n",
        "# using_radius_toggle = false # @param {type: \"boolean\"}\n",
        "# @markdown Mass in EM\n",
        "planet_mass = 0.8 # @param {type: \"number\",min:0.001}\n",
        "mp_kg = planet_mass * earth_mass\n",
        "\n",
        "# @markdown Radius in ER\n",
        "planet_radius = 0.9 # @param {type: \"number\", min: 0.001}\n",
        "r_km = planet_radius*earth_radius\n",
        "\n",
        "#Conversion factor for kg/km^3 => g/cm^3\n",
        "conv_factor = 1.0E-12\n",
        "\n",
        "planet_density = (mp_kg/((4.0/3.0)*math.pi*(r_km**3)))*conv_factor\n",
        "# @markdown # Data\n",
        "# units.convert(planet_density, units.length.,)\n",
        "\n",
        "print(f'''\n",
        "\\t Diameter: {2*r_km}(km) ({planet_radius} ER)\n",
        "\\t Mass: {mp_kg}(kg) ({planet_mass} EM)\n",
        "\\t Density : {planet_density} g/cm^3\n",
        "'''.format())\n"
      ]
    },
    {
      "cell_type": "markdown",
      "source": [
        "#Roche Limit\n"
      ],
      "metadata": {
        "id": "F20mMUxigGNp"
      }
    },
    {
      "cell_type": "markdown",
      "source": [
        "## Explanation\n"
      ],
      "metadata": {
        "id": "Dlc_mJlbC5JB"
      }
    },
    {
      "cell_type": "markdown",
      "source": [
        "Originally I thought the calculator that was being used was incorrect but after referencing the following paper[<sup>1</sup>][1] it was simply inexact. In the first page of the article, math line 1 there is the original formula for the Roche Limit[<sup>1</sup>][1].\n",
        "\n",
        "---\n",
        "The Roche limit is calculated as follows:  \n",
        "- Where $R$ is the Roche limit, or the orbital radius where the satellite becomes unstable.\n",
        "- $\\rho$ is the density of the satellite (this uses the density from above)\n",
        "- $\\mathbb{M}$ is the mass of the central object\n",
        "\n",
        "$9.0068e^{-2} \\geq \\frac{\\mathbb{M}}{\\pi\\rho R^3}$\n",
        "\n",
        "As we are trying to find the transition point we look to where it is equal and solve for $R$ (the radius of the orbit).\n",
        "\n",
        "$R^3 0.090068 = \\frac{\\mathbb{M}}{\\pi\\rho}$\n",
        "\n",
        "$R^3 = \\frac{\\mathbb{M}}{0.090068 \\pi\\rho}$\n",
        "\n",
        "$R^3 = \\frac{100 \\times \\mathbb{M}}{9.0068 \\times \\pi\\rho}$\n",
        "\n",
        "$R = \\big(\\frac{100 \\times \\mathbb{M}}{9.0068 \\times \\pi\\rho}\\big)^{\\frac{1}{3}}$\n",
        "\n",
        "\n",
        "### Note\n",
        "This is the formula that was in the calculator I link below.\n",
        "$R = \\Big(\\frac{(100 \\times M)}{(9\\times pi\\times p)}\\Big)^{\\frac{1}{3}}$\n",
        "\n",
        "You can see above where this (less exact) came from.\n",
        "\n",
        "---\n",
        "#### References\n",
        "\n",
        "[1]: Chandrasekhar, S., “The Equilibrium and the Stability of the Roche Ellipsoids.”, *The Astrophysical Journal*, vol. 138, IOP, p. 1182, 1963. doi:[10.1086/147716](https://ui.adsabs.harvard.edu/link_gateway/1963ApJ...138.1182C/doi:10.1086/147716).\n",
        "\n",
        "[1]: https://ui.adsabs.harvard.edu/link_gateway/1963ApJ...138.1182C/doi:10.1086/147716\n",
        "\n",
        "\n"
      ],
      "metadata": {
        "id": "rNlaODtiDKEX"
      }
    },
    {
      "cell_type": "markdown",
      "source": [
        "## Calculator"
      ],
      "metadata": {
        "id": "jXUZ4kgMDd9j"
      }
    },
    {
      "cell_type": "code",
      "source": [
        "# @title Roche Limit Calculator { run: \"auto\", vertical-output: true, display-mode: \"form\" }\n",
        "\n",
        "# @markdown $\\gets$ Press the play button once and then any changes in this form will\n",
        "# @markdown automatically update the results.\n",
        "\n",
        "roche_planet_density = planet_density\n",
        "roche_constant = 9.0068e-2\n",
        "\n",
        "# 2188011030000000000000000000000\n",
        "# @markdown ---\n",
        "# @markdown This has the solar mass I started with as the default, but you can edit.\n",
        "\n",
        "# @markdown **The solar mass in grams**\n",
        "central_obj_mass = 2.18801103e+30 # @param [\"2.18801103e+30\"] {type:\"raw\", allow-input: true}\n",
        "\n",
        "roche_limit = ((central_obj_mass)/(roche_constant*math.pi*planet_density))**(1.0/3.0)\n",
        "print(f'''\n",
        "\\tRoche-limit: {roche_limit:1.5e} cm ≡ {roche_limit*6.68459e-14:1.5e} AU\n",
        "''')\n"
      ],
      "metadata": {
        "colab": {
          "base_uri": "https://localhost:8080/"
        },
        "outputId": "13203eb2-c6da-4943-9f2e-89ee927e88d0",
        "id": "6led0EN8SJHw"
      },
      "execution_count": null,
      "outputs": [
        {
          "output_type": "stream",
          "name": "stdout",
          "text": [
            "\n",
            "\tRoche-limit: 1.08642e+10 cm ≡ 7.26225e-04 AU\n",
            "\n"
          ]
        }
      ]
    },
    {
      "cell_type": "markdown",
      "source": [
        "# Planet Building\n",
        "\n",
        "[Density](https://calculator.academy/density-of-a-sphere-calculator/)\n",
        "\n",
        "$D=m/(4/3∗pi∗r^3)$\n",
        "\n",
        "\n",
        "[Roche Limit](https://calculator.academy/roche-limit-calculator/)\n",
        "\n",
        "[youTube video on world building](https://www.youtube.com/watch?v=TrpOJYshfE4&list=PLwqGYGVzCofCdsMsbpJ_nZeccFov5ZskF&index=10)\n",
        "\n",
        "[pdf on star systems](https://arxiv.org/pdf/0707.2895.pdf)\n",
        "\n",
        "[Roche Limit Wikipedia](https://en.wikipedia.org/wiki/Roche_limit)\n",
        "\n",
        "## My original solar mass:\n",
        "solar_mass = 2188011030000000000000000000000\n"
      ],
      "metadata": {
        "id": "AaEOnJxPclM6"
      }
    }
  ]
}